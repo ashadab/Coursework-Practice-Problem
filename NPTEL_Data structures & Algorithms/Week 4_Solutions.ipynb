{
 "cells": [
  {
   "cell_type": "code",
   "execution_count": 14,
   "metadata": {},
   "outputs": [
    {
     "name": "stdout",
     "output_type": "stream",
     "text": [
      "7\n"
     ]
    }
   ],
   "source": [
    "# user input for N: #roads in the constituency\n",
    "\n",
    "N = int( input() )"
   ]
  },
  {
   "cell_type": "code",
   "execution_count": 15,
   "metadata": {},
   "outputs": [],
   "source": [
    "if (N > 1000) or (N < 1):\n",
    "    \n",
    "    import sys\n",
    "    sys.exit(\"\")"
   ]
  },
  {
   "cell_type": "code",
   "execution_count": 16,
   "metadata": {},
   "outputs": [
    {
     "name": "stdout",
     "output_type": "stream",
     "text": [
      "3 1 11\n",
      "6 1 12\n",
      "6 4 52\n",
      "6 2 17\n",
      "5 2 14\n",
      "4 5 13\n",
      "3 4 10\n"
     ]
    }
   ],
   "source": [
    "# S_point denotes the starting point of a road\n",
    "# T_point denotes the ending   point of a road\n",
    "# Distance gives the length of the road\n",
    "\n",
    "\n",
    "S_point =[]\n",
    "T_point =[]\n",
    "Distance =[]\n",
    "\n",
    "\n",
    "for i in range(0, N):\n",
    "    \n",
    "    X, Y, Z = [int(t) for t in input().split() ]\n",
    "    \n",
    "    S_point.append(X)\n",
    "    T_point.append(Y)\n",
    "    Distance.append(Z)"
   ]
  },
  {
   "cell_type": "code",
   "execution_count": null,
   "metadata": {},
   "outputs": [],
   "source": []
  },
  {
   "cell_type": "code",
   "execution_count": 17,
   "metadata": {},
   "outputs": [
    {
     "data": {
      "text/plain": [
       "[3, 6, 6, 6, 5, 4, 3]"
      ]
     },
     "execution_count": 17,
     "metadata": {},
     "output_type": "execute_result"
    }
   ],
   "source": [
    "S_point"
   ]
  },
  {
   "cell_type": "code",
   "execution_count": 18,
   "metadata": {},
   "outputs": [
    {
     "data": {
      "text/plain": [
       "[1, 1, 4, 2, 2, 5, 4]"
      ]
     },
     "execution_count": 18,
     "metadata": {},
     "output_type": "execute_result"
    }
   ],
   "source": [
    "T_point"
   ]
  },
  {
   "cell_type": "code",
   "execution_count": null,
   "metadata": {},
   "outputs": [],
   "source": []
  },
  {
   "cell_type": "code",
   "execution_count": 19,
   "metadata": {},
   "outputs": [
    {
     "data": {
      "text/plain": [
       "6"
      ]
     },
     "execution_count": 19,
     "metadata": {},
     "output_type": "execute_result"
    }
   ],
   "source": [
    "#maximum number of vertices number connected by road\n",
    "\n",
    "V_n = max ( max(S_point) , max(T_point) )\n",
    "\n",
    "V_n"
   ]
  },
  {
   "cell_type": "code",
   "execution_count": null,
   "metadata": {},
   "outputs": [],
   "source": []
  },
  {
   "cell_type": "code",
   "execution_count": 20,
   "metadata": {},
   "outputs": [],
   "source": [
    "if V_n > 300:\n",
    "    \n",
    "    import sys\n",
    "    sys.exit(\"\")"
   ]
  },
  {
   "cell_type": "code",
   "execution_count": null,
   "metadata": {},
   "outputs": [],
   "source": []
  },
  {
   "cell_type": "code",
   "execution_count": null,
   "metadata": {},
   "outputs": [],
   "source": []
  },
  {
   "cell_type": "code",
   "execution_count": 21,
   "metadata": {},
   "outputs": [
    {
     "data": {
      "text/plain": [
       "[(3, 1, 11),\n",
       " (6, 1, 12),\n",
       " (6, 4, 52),\n",
       " (6, 2, 17),\n",
       " (5, 2, 14),\n",
       " (4, 5, 13),\n",
       " (3, 4, 10)]"
      ]
     },
     "execution_count": 21,
     "metadata": {},
     "output_type": "execute_result"
    }
   ],
   "source": [
    "#joining all the inputs for each road\n",
    "road_info = list( zip (S_point, T_point, Distance) )\n",
    "road_info\n",
    "\n",
    "\n",
    "# when 7 road network\n",
    "\n",
    "# road_info = [(3, 1, 11),\n",
    "#  (6, 1, 12),\n",
    "#  (6, 4, 52),\n",
    "#  (6, 2, 17),\n",
    "#  (5, 2, 14),\n",
    "#  (4, 5, 13),\n",
    "#  (3, 4, 10)]"
   ]
  },
  {
   "cell_type": "code",
   "execution_count": null,
   "metadata": {},
   "outputs": [],
   "source": []
  },
  {
   "cell_type": "code",
   "execution_count": null,
   "metadata": {},
   "outputs": [],
   "source": []
  },
  {
   "cell_type": "code",
   "execution_count": null,
   "metadata": {},
   "outputs": [],
   "source": []
  },
  {
   "cell_type": "code",
   "execution_count": 22,
   "metadata": {
    "scrolled": true
   },
   "outputs": [
    {
     "data": {
      "text/plain": [
       "[[999999, 999999, 999999, 999999, 999999, 999999],\n",
       " [999999, 999999, 999999, 999999, 999999, 999999],\n",
       " [999999, 999999, 999999, 999999, 999999, 999999],\n",
       " [999999, 999999, 999999, 999999, 999999, 999999],\n",
       " [999999, 999999, 999999, 999999, 999999, 999999],\n",
       " [999999, 999999, 999999, 999999, 999999, 999999]]"
      ]
     },
     "execution_count": 22,
     "metadata": {},
     "output_type": "execute_result"
    }
   ],
   "source": [
    "#creating a nxn matrix using list comprehension\n",
    "#creating table where dimensions is equal to the number of vertices\n",
    "\n",
    "table= [ [ 999999 for i in range(V_n) ] for j in range(V_n) ]\n",
    "table"
   ]
  },
  {
   "cell_type": "code",
   "execution_count": null,
   "metadata": {},
   "outputs": [],
   "source": []
  },
  {
   "cell_type": "code",
   "execution_count": null,
   "metadata": {},
   "outputs": [],
   "source": []
  },
  {
   "cell_type": "code",
   "execution_count": 23,
   "metadata": {},
   "outputs": [
    {
     "data": {
      "text/plain": [
       "[[999999, 999999, 11, 999999, 999999, 12],\n",
       " [999999, 999999, 999999, 999999, 14, 17],\n",
       " [11, 999999, 999999, 10, 999999, 999999],\n",
       " [999999, 999999, 10, 999999, 13, 52],\n",
       " [999999, 14, 999999, 13, 999999, 999999],\n",
       " [12, 17, 999999, 52, 999999, 999999]]"
      ]
     },
     "execution_count": 23,
     "metadata": {},
     "output_type": "execute_result"
    }
   ],
   "source": [
    "# creating weight matrix which has information about the length of roads between each vertexes\n",
    "\n",
    "import copy\n",
    "\n",
    "def transform_matrix(PR, road_network):\n",
    "    \n",
    "    length_matrix = copy.deepcopy(PR)\n",
    "    \n",
    "    TH = copy.deepcopy(road_network)\n",
    "    \n",
    "    for i in range( N ):\n",
    "        \n",
    "            #starting point\n",
    "            m= TH[i][0]\n",
    "\n",
    "            #ending point\n",
    "            n= TH[i][1]\n",
    "\n",
    "            # we are starting the count of vertices from 0... so the node 1 actually is 0th node in our program..\n",
    "            # node 2 is 1st node.. so on\n",
    "        \n",
    "            length_matrix[m-1][n-1] =  TH[i][2]\n",
    "            length_matrix[n-1][m-1] =  TH[i][2]\n",
    "\n",
    "    \n",
    "    return length_matrix    \n",
    "\n",
    "#table is the basic matrix with all values equal to infinity\n",
    "\n",
    "#weight matrix has all the information as given in the road network\n",
    "\n",
    "weight_matrix = transform_matrix(table, road_info)\n",
    "weight_matrix"
   ]
  },
  {
   "cell_type": "code",
   "execution_count": null,
   "metadata": {},
   "outputs": [],
   "source": []
  },
  {
   "cell_type": "code",
   "execution_count": null,
   "metadata": {},
   "outputs": [],
   "source": []
  },
  {
   "cell_type": "code",
   "execution_count": 24,
   "metadata": {},
   "outputs": [],
   "source": [
    "#vertex should start with zero\n",
    "#if you are giving weight above 999 adjust min in program\n",
    "#result will be the shortest path and the distace to each vertex from source vertex in order\n",
    "\n",
    "def dijkstra(matrix,m,n,so_vert):\n",
    "    \n",
    "    #k=int(input(\"Enter the source vertex\"))\n",
    "    k=so_vert\n",
    "    \n",
    "    cost=[[0 for x in range(m)] for x in range(1)]\n",
    "    offsets = []\n",
    "    offsets.append(k)\n",
    "    elepos=0\n",
    "    for j in range(m):\n",
    "        cost[0][j]=matrix[k][j]\n",
    "    mini=999\n",
    "    for x in range (m-1):\n",
    "        mini=999\n",
    "        for j in range (m):\n",
    "                if cost[0][j]<=mini and j not in offsets:\n",
    "                        mini=cost[0][j]\n",
    "                        elepos=j\n",
    "        offsets.append(elepos)\n",
    "        for j in range (m):\n",
    "            if cost[0][j] >cost[0][elepos]+matrix[elepos][j]:\n",
    "                cost[0][j]=cost[0][elepos]+matrix[elepos][j]\n",
    "    #print(\"The shortest path\",offsets)\n",
    "    #print(\"The cost to various vertices in order\",cost)\n",
    "    \n",
    "    return cost"
   ]
  },
  {
   "cell_type": "code",
   "execution_count": 34,
   "metadata": {},
   "outputs": [
    {
     "data": {
      "text/plain": [
       "[[34, 14, 23, 13, 26, 31]]"
      ]
     },
     "execution_count": 34,
     "metadata": {},
     "output_type": "execute_result"
    }
   ],
   "source": [
    "df = dijkstra(weight_matrix,V_n,V_n,4)\n",
    "df"
   ]
  },
  {
   "cell_type": "code",
   "execution_count": 37,
   "metadata": {},
   "outputs": [
    {
     "data": {
      "text/plain": [
       "[[29, 28, 37, 27, 14, 17]]"
      ]
     },
     "execution_count": 37,
     "metadata": {},
     "output_type": "execute_result"
    }
   ],
   "source": [
    "shortest_path_temp = dijkstra(weight_matrix,V_n,V_n, 1 )\n",
    "shortest_path_temp"
   ]
  },
  {
   "cell_type": "code",
   "execution_count": 40,
   "metadata": {},
   "outputs": [
    {
     "data": {
      "text/plain": [
       "29"
      ]
     },
     "execution_count": 40,
     "metadata": {},
     "output_type": "execute_result"
    }
   ],
   "source": [
    "shortest_path_temp[0][0]"
   ]
  },
  {
   "cell_type": "code",
   "execution_count": null,
   "metadata": {},
   "outputs": [],
   "source": []
  },
  {
   "cell_type": "code",
   "execution_count": 42,
   "metadata": {},
   "outputs": [
    {
     "data": {
      "text/plain": [
       "[[999999, 999999, 77, 999999, 999999, 77],\n",
       " [999999, 999999, 999999, 999999, 77, 77],\n",
       " [77, 999999, 999999, 77, 999999, 999999],\n",
       " [999999, 999999, 77, 999999, 77, 85],\n",
       " [999999, 77, 999999, 77, 999999, 999999],\n",
       " [77, 77, 999999, 85, 999999, 999999]]"
      ]
     },
     "execution_count": 42,
     "metadata": {},
     "output_type": "execute_result"
    }
   ],
   "source": [
    "import copy\n",
    "\n",
    "def min_path(weight_matrix_original, dist_matrix, road_network):\n",
    "    \n",
    "    weight_matrix_pure = copy.deepcopy(weight_matrix_original)\n",
    "    \n",
    "    weight_matrix_temp = copy.deepcopy(weight_matrix_original)\n",
    "    \n",
    "    dist = copy.deepcopy(dist_matrix)\n",
    "    \n",
    "    TH = copy.deepcopy(road_network)\n",
    "    \n",
    "    \n",
    "    #for all roads in the graph.. finding shortest distance to loop around that road\n",
    "        \n",
    "    for road_var in range(N):\n",
    "        \n",
    "        #start_vertex\n",
    "        i = TH[road_var][0] - 1\n",
    "\n",
    "        #end_vertex\n",
    "        j = TH[road_var][1] - 1\n",
    "\n",
    "\n",
    "        weight_matrix_temp[i][j]= 999999\n",
    "\n",
    "        weight_matrix_temp[j][i]= 999999\n",
    "\n",
    "\n",
    "        shortest_path_temp = dijkstra(weight_matrix_temp , V_n, V_n , i )   \n",
    "\n",
    "\n",
    "        dist[i][j] = shortest_path_temp[0][j] + weight_matrix_pure[i][j]\n",
    "\n",
    "\n",
    "        dist[j][i] = dist[i][j]\n",
    "\n",
    "\n",
    "        weight_matrix_temp = copy.deepcopy(weight_matrix_pure)\n",
    "            \n",
    "    return dist\n",
    "\n",
    "# capturing distance into list pray\n",
    "\n",
    "dist_pq = [ [ 999999 for i in range(V_n) ] for j in range(V_n) ]\n",
    "\n",
    "pray = min_path(weight_matrix, dist_pq, road_info)\n",
    "pray"
   ]
  },
  {
   "cell_type": "code",
   "execution_count": null,
   "metadata": {},
   "outputs": [],
   "source": []
  },
  {
   "cell_type": "code",
   "execution_count": 43,
   "metadata": {},
   "outputs": [
    {
     "name": "stdout",
     "output_type": "stream",
     "text": [
      "77\n"
     ]
    }
   ],
   "source": [
    "#finding minimum length of the circular loop\n",
    "\n",
    "# finding minimum of the path in above found matrixs in \n",
    "# the process to find shortest path between any node i and j if the user wants to start from i and return to i via j\n",
    "\n",
    "min_row =[]\n",
    "\n",
    "def min_nest_list(list_name):\n",
    "    \n",
    "    pq = list_name\n",
    "    len_pq = len(pq)\n",
    "    \n",
    "    for i in range(len_pq):\n",
    "        \n",
    "        dp = min( pq[i] )\n",
    "        min_row.append(dp)\n",
    "        \n",
    "        \n",
    "result = min_nest_list(pray)        \n",
    "\n",
    "\n",
    "final_output =  min( min_row )\n",
    "print(final_output)"
   ]
  },
  {
   "cell_type": "code",
   "execution_count": null,
   "metadata": {},
   "outputs": [],
   "source": []
  },
  {
   "cell_type": "code",
   "execution_count": null,
   "metadata": {},
   "outputs": [],
   "source": []
  },
  {
   "cell_type": "code",
   "execution_count": null,
   "metadata": {},
   "outputs": [],
   "source": []
  }
 ],
 "metadata": {
  "kernelspec": {
   "display_name": "Python 3",
   "language": "python",
   "name": "python3"
  },
  "language_info": {
   "codemirror_mode": {
    "name": "ipython",
    "version": 3
   },
   "file_extension": ".py",
   "mimetype": "text/x-python",
   "name": "python",
   "nbconvert_exporter": "python",
   "pygments_lexer": "ipython3",
   "version": "3.7.1"
  }
 },
 "nbformat": 4,
 "nbformat_minor": 2
}
