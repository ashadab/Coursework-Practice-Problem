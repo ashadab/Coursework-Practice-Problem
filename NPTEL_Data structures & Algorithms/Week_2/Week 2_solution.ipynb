{
 "cells": [
  {
   "cell_type": "code",
   "execution_count": 101,
   "metadata": {
    "scrolled": true
   },
   "outputs": [
    {
     "name": "stdout",
     "output_type": "stream",
     "text": [
      "7\n",
      "3 22\n",
      "9 17\n",
      "6 19\n",
      "13 16\n",
      "2 25\n",
      "14 15\n",
      "5 21\n"
     ]
    }
   ],
   "source": [
    "#allowing user to enter number of singers in the competition\n",
    "singers = input()\n",
    "N= int(singers)\n",
    "\n",
    "\n",
    "#allowing user to enter lower and upper bounds of pitch of participants\n",
    "\n",
    "Lower_bound=[]\n",
    "Upper_bound=[]\n",
    "\n",
    "for i in range(0, N):\n",
    "    \n",
    "    L_i, U_i = [int(x) for x in input().split() ]\n",
    "    \n",
    "    Lower_bound.append(L_i)\n",
    "    Upper_bound.append(U_i)"
   ]
  },
  {
   "cell_type": "code",
   "execution_count": 102,
   "metadata": {},
   "outputs": [
    {
     "data": {
      "text/plain": [
       "[22, 17, 19, 16, 25, 15, 21]"
      ]
     },
     "execution_count": 102,
     "metadata": {},
     "output_type": "execute_result"
    }
   ],
   "source": [
    "Upper_bound"
   ]
  },
  {
   "cell_type": "code",
   "execution_count": 103,
   "metadata": {},
   "outputs": [
    {
     "data": {
      "text/plain": [
       "[3, 9, 6, 13, 2, 14, 5]"
      ]
     },
     "execution_count": 103,
     "metadata": {},
     "output_type": "execute_result"
    }
   ],
   "source": [
    "Lower_bound"
   ]
  },
  {
   "cell_type": "code",
   "execution_count": 104,
   "metadata": {},
   "outputs": [
    {
     "data": {
      "text/plain": [
       "[2, 3, 5, 6, 9, 13, 14]"
      ]
     },
     "execution_count": 104,
     "metadata": {},
     "output_type": "execute_result"
    }
   ],
   "source": [
    "L_sort = sorted(Lower_bound)\n",
    "L_sort"
   ]
  },
  {
   "cell_type": "code",
   "execution_count": null,
   "metadata": {},
   "outputs": [],
   "source": []
  },
  {
   "cell_type": "code",
   "execution_count": 105,
   "metadata": {},
   "outputs": [
    {
     "data": {
      "text/plain": [
       "[4, 0, 6, 2, 1, 3, 5]"
      ]
     },
     "execution_count": 105,
     "metadata": {},
     "output_type": "execute_result"
    }
   ],
   "source": [
    "L_index = []\n",
    "\n",
    "for i in range(0,len(L_sort)):\n",
    "    \n",
    "    index = L_sort[i]\n",
    "    \n",
    "    x= [i for i, j in enumerate(Lower_bound) if j == index ]\n",
    "    \n",
    "    L_index.append( x[0] )\n",
    "    \n",
    "L_sort_index = L_index\n",
    "L_sort_index"
   ]
  },
  {
   "cell_type": "code",
   "execution_count": null,
   "metadata": {},
   "outputs": [],
   "source": []
  },
  {
   "cell_type": "code",
   "execution_count": 106,
   "metadata": {},
   "outputs": [
    {
     "data": {
      "text/plain": [
       "[12, 10, 8, 6, 4, 2, 0]"
      ]
     },
     "execution_count": 106,
     "metadata": {},
     "output_type": "execute_result"
    }
   ],
   "source": [
    "#define number of matches won\n",
    "\n",
    "match_won=[]\n",
    "rank_score=[]\n",
    "\n",
    "for i in range(0,N):\n",
    "    \n",
    "    value_1 = N-(i+1)\n",
    "    match_won.append (value_1)\n",
    "    \n",
    "    value_2 = 2 * ( N-(i+1) )\n",
    "    rank_score.append(value_2)\n",
    "\n",
    "\n",
    "rank_score"
   ]
  },
  {
   "cell_type": "code",
   "execution_count": null,
   "metadata": {},
   "outputs": [],
   "source": []
  },
  {
   "cell_type": "code",
   "execution_count": 107,
   "metadata": {},
   "outputs": [
    {
     "data": {
      "text/plain": [
       "[3, 9, 6, 13, 2, 14, 5]"
      ]
     },
     "execution_count": 107,
     "metadata": {},
     "output_type": "execute_result"
    }
   ],
   "source": [
    "# since we are again using lower bound varaible, we are storing the original input values in the variable titled as\n",
    "# original_lower_bound\n",
    "\n",
    "Lower_bound_original = Lower_bound\n",
    "Lower_bound_original"
   ]
  },
  {
   "cell_type": "code",
   "execution_count": 108,
   "metadata": {},
   "outputs": [
    {
     "data": {
      "text/plain": [
       "[2, 3, 5, 6, 9, 13, 14]"
      ]
     },
     "execution_count": 108,
     "metadata": {},
     "output_type": "execute_result"
    }
   ],
   "source": [
    "#fetching value of the INPUT lower bounds of elements based on the their index in the FINAL SORTED LIST\n",
    "\n",
    "Lower_bound =[]\n",
    "\n",
    "for i in range(0,N):\n",
    "    \n",
    "    v_i = Lower_bound_original [ L_sort_index[i]  ]\n",
    "    Lower_bound.append(v_i)\n",
    "    \n",
    "\n",
    "Lower_bound"
   ]
  },
  {
   "cell_type": "code",
   "execution_count": null,
   "metadata": {},
   "outputs": [],
   "source": []
  },
  {
   "cell_type": "code",
   "execution_count": 109,
   "metadata": {},
   "outputs": [
    {
     "data": {
      "text/plain": [
       "[(4, 2, 12),\n",
       " (0, 3, 10),\n",
       " (6, 5, 8),\n",
       " (2, 6, 6),\n",
       " (1, 9, 4),\n",
       " (3, 13, 2),\n",
       " (5, 14, 0)]"
      ]
     },
     "execution_count": 109,
     "metadata": {},
     "output_type": "execute_result"
    }
   ],
   "source": [
    "#combining index, lower bound of the index and score for that index.. here index is that in the original input sequence\n",
    "\n",
    "tup = list ( zip ( L_sort_index , Lower_bound, rank_score) )\n",
    "tup"
   ]
  },
  {
   "cell_type": "code",
   "execution_count": 110,
   "metadata": {},
   "outputs": [
    {
     "data": {
      "text/plain": [
       "[(0, 3, 10),\n",
       " (1, 9, 4),\n",
       " (2, 6, 6),\n",
       " (3, 13, 2),\n",
       " (4, 2, 12),\n",
       " (5, 14, 0),\n",
       " (6, 5, 8)]"
      ]
     },
     "execution_count": 110,
     "metadata": {},
     "output_type": "execute_result"
    }
   ],
   "source": [
    "# we now sort on the basis of index so that our output matches the sequence of original input.. by default sorting happens\n",
    "# on the first coloumn or better say first coordinate of all the touples\n",
    "\n",
    "tup_sort = sorted (tup)\n",
    "\n",
    "tup_sort"
   ]
  },
  {
   "cell_type": "code",
   "execution_count": null,
   "metadata": {},
   "outputs": [],
   "source": []
  },
  {
   "cell_type": "code",
   "execution_count": 112,
   "metadata": {},
   "outputs": [
    {
     "name": "stdout",
     "output_type": "stream",
     "text": [
      "10 4 6 2 12 0 8\n"
     ]
    }
   ],
   "source": [
    "#preparing to output the result\n",
    "output =[]\n",
    "\n",
    "for i in range( 0,len (Lower_bound) ):\n",
    "    \n",
    "    # we find out the score from the sorted tuples based on the index of INPUTS\n",
    "    x= tup_sort[i][2]\n",
    "    output.append(x)\n",
    "    \n",
    "\n",
    "#putting a star so that output display comes inform of a string    \n",
    "print (*output)\n",
    "    "
   ]
  },
  {
   "cell_type": "code",
   "execution_count": null,
   "metadata": {},
   "outputs": [],
   "source": []
  },
  {
   "cell_type": "code",
   "execution_count": null,
   "metadata": {},
   "outputs": [],
   "source": []
  }
 ],
 "metadata": {
  "kernelspec": {
   "display_name": "Python 3",
   "language": "python",
   "name": "python3"
  },
  "language_info": {
   "codemirror_mode": {
    "name": "ipython",
    "version": 3
   },
   "file_extension": ".py",
   "mimetype": "text/x-python",
   "name": "python",
   "nbconvert_exporter": "python",
   "pygments_lexer": "ipython3",
   "version": "3.7.1"
  }
 },
 "nbformat": 4,
 "nbformat_minor": 2
}
