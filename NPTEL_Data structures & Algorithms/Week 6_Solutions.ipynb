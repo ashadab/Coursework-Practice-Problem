{
 "cells": [
  {
   "cell_type": "code",
   "execution_count": null,
   "metadata": {},
   "outputs": [],
   "source": []
  },
  {
   "cell_type": "code",
   "execution_count": 36,
   "metadata": {},
   "outputs": [
    {
     "name": "stdout",
     "output_type": "stream",
     "text": [
      "4\n",
      "2 5\n",
      "9 7\n",
      "15 6\n",
      "9 3\n"
     ]
    }
   ],
   "source": [
    "#number of requests recieved \n",
    "N = int(input())\n",
    "\n",
    "#starting date array\n",
    "S=[]\n",
    "\n",
    "#length of event (in days) array\n",
    "D=[]\n",
    "\n",
    "# taking inputs from user\n",
    "for i in range(0,N):\n",
    "        \n",
    "    (a,b) = [ int(x) for x in input().split() ] \n",
    "    \n",
    "    S.append(a)\n",
    "    D.append(b)\n",
    "\n"
   ]
  },
  {
   "cell_type": "code",
   "execution_count": 37,
   "metadata": {},
   "outputs": [
    {
     "name": "stdout",
     "output_type": "stream",
     "text": [
      "[2, 9, 15, 9]\n",
      "[5, 7, 6, 3]\n"
     ]
    }
   ],
   "source": [
    "print(S)\n",
    "print(D)"
   ]
  },
  {
   "cell_type": "code",
   "execution_count": null,
   "metadata": {},
   "outputs": [],
   "source": []
  },
  {
   "cell_type": "code",
   "execution_count": 2,
   "metadata": {},
   "outputs": [
    {
     "data": {
      "text/plain": [
       "[51414,\n",
       " 82840,\n",
       " 4302,\n",
       " 6128,\n",
       " 25107,\n",
       " 91516,\n",
       " 5963,\n",
       " 66224,\n",
       " 34020,\n",
       " 80173,\n",
       " 93707,\n",
       " 81337,\n",
       " 82399,\n",
       " 65712,\n",
       " 22001,\n",
       " 95780,\n",
       " 28758,\n",
       " 23265,\n",
       " 48730,\n",
       " 1404]"
      ]
     },
     "execution_count": 2,
     "metadata": {},
     "output_type": "execute_result"
    }
   ],
   "source": [
    "#finding finish date of each booking/request\n",
    "\n",
    "finish_date = [ (S[i]+ D[i]-1) for i in range(0,N) ]\n",
    "\n",
    "finish_date"
   ]
  },
  {
   "cell_type": "code",
   "execution_count": 3,
   "metadata": {},
   "outputs": [
    {
     "data": {
      "text/plain": [
       "[(51292, 123, 51414),\n",
       " (82060, 781, 82840),\n",
       " (4014, 289, 4302),\n",
       " (5471, 658, 6128),\n",
       " (24984, 124, 25107),\n",
       " (91152, 365, 91516),\n",
       " (5097, 867, 5963),\n",
       " (66146, 79, 66224),\n",
       " (33650, 371, 34020),\n",
       " (79414, 760, 80173),\n",
       " (93160, 548, 93707),\n",
       " (80928, 410, 81337),\n",
       " (81547, 853, 82399),\n",
       " (65682, 31, 65712),\n",
       " (21133, 869, 22001),\n",
       " (95357, 424, 95780),\n",
       " (28343, 416, 28758),\n",
       " (22557, 709, 23265),\n",
       " (48704, 27, 48730),\n",
       " (1366, 39, 1404)]"
      ]
     },
     "execution_count": 3,
     "metadata": {},
     "output_type": "execute_result"
    }
   ],
   "source": [
    "tup = list ( zip ( S,D,finish_date) )\n",
    "tup"
   ]
  },
  {
   "cell_type": "code",
   "execution_count": null,
   "metadata": {},
   "outputs": [],
   "source": []
  },
  {
   "cell_type": "code",
   "execution_count": 4,
   "metadata": {},
   "outputs": [
    {
     "data": {
      "text/plain": [
       "[(1366, 39, 1404),\n",
       " (4014, 289, 4302),\n",
       " (5097, 867, 5963),\n",
       " (5471, 658, 6128),\n",
       " (21133, 869, 22001),\n",
       " (22557, 709, 23265),\n",
       " (24984, 124, 25107),\n",
       " (28343, 416, 28758),\n",
       " (33650, 371, 34020),\n",
       " (48704, 27, 48730),\n",
       " (51292, 123, 51414),\n",
       " (65682, 31, 65712),\n",
       " (66146, 79, 66224),\n",
       " (79414, 760, 80173),\n",
       " (80928, 410, 81337),\n",
       " (81547, 853, 82399),\n",
       " (82060, 781, 82840),\n",
       " (91152, 365, 91516),\n",
       " (93160, 548, 93707),\n",
       " (95357, 424, 95780)]"
      ]
     },
     "execution_count": 4,
     "metadata": {},
     "output_type": "execute_result"
    }
   ],
   "source": [
    "def takeSecond(elem):\n",
    "    return elem[2]\n",
    "\n",
    "# sort list with key\n",
    "sortedList = sorted(tup, key=takeSecond)\n",
    "sortedList"
   ]
  },
  {
   "cell_type": "code",
   "execution_count": null,
   "metadata": {
    "scrolled": true
   },
   "outputs": [],
   "source": []
  },
  {
   "cell_type": "code",
   "execution_count": 5,
   "metadata": {},
   "outputs": [
    {
     "name": "stdout",
     "output_type": "stream",
     "text": [
      "[1366, 4014, 5097, 5471, 21133, 22557, 24984, 28343, 33650, 48704, 51292, 65682, 66146, 79414, 80928, 81547, 82060, 91152, 93160, 95357]\n",
      "[1404, 4302, 5963, 6128, 22001, 23265, 25107, 28758, 34020, 48730, 51414, 65712, 66224, 80173, 81337, 82399, 82840, 91516, 93707, 95780]\n"
     ]
    }
   ],
   "source": [
    "#ST : denotes starting time\n",
    "\n",
    "#FT : denotes finishing time \n",
    "\n",
    "ST = []\n",
    "FT = []\n",
    "\n",
    "for i in range(0,N):\n",
    "    \n",
    "    ST.append( sortedList[i][0] )\n",
    "    FT.append( sortedList[i][2] )\n",
    "    \n",
    "print(ST)\n",
    "print(FT)"
   ]
  },
  {
   "cell_type": "code",
   "execution_count": 9,
   "metadata": {},
   "outputs": [
    {
     "name": "stdout",
     "output_type": "stream",
     "text": [
      "start date = 4014 ; end date= 4302 and count till now is 2\n",
      "\n",
      "\n",
      "start date = 5097 ; end date= 5963 and count till now is 3\n",
      "\n",
      "\n",
      "start date = 21133 ; end date= 22001 and count till now is 4\n",
      "\n",
      "\n",
      "start date = 22557 ; end date= 23265 and count till now is 5\n",
      "\n",
      "\n",
      "start date = 24984 ; end date= 25107 and count till now is 6\n",
      "\n",
      "\n",
      "start date = 28343 ; end date= 28758 and count till now is 7\n",
      "\n",
      "\n",
      "start date = 33650 ; end date= 34020 and count till now is 8\n",
      "\n",
      "\n",
      "start date = 48704 ; end date= 48730 and count till now is 9\n",
      "\n",
      "\n",
      "start date = 51292 ; end date= 51414 and count till now is 10\n",
      "\n",
      "\n",
      "start date = 65682 ; end date= 65712 and count till now is 11\n",
      "\n",
      "\n",
      "start date = 66146 ; end date= 66224 and count till now is 12\n",
      "\n",
      "\n",
      "start date = 79414 ; end date= 80173 and count till now is 13\n",
      "\n",
      "\n",
      "start date = 80928 ; end date= 81337 and count till now is 14\n",
      "\n",
      "\n",
      "start date = 81547 ; end date= 82399 and count till now is 15\n",
      "\n",
      "\n",
      "start date = 91152 ; end date= 91516 and count till now is 16\n",
      "\n",
      "\n",
      "start date = 93160 ; end date= 93707 and count till now is 17\n",
      "\n",
      "\n",
      "start date = 95357 ; end date= 95780 and count till now is 18\n",
      "\n",
      "\n"
     ]
    },
    {
     "data": {
      "text/plain": [
       "18"
      ]
     },
     "execution_count": 9,
     "metadata": {},
     "output_type": "execute_result"
    }
   ],
   "source": [
    "#initializing a count variable\n",
    "count= 1\n",
    "\n",
    "# we will always count the first booking with minimum finishing time\n",
    "j= 0\n",
    "\n",
    "# finding the start, end date and the count of number of booking which can be accepted by the manager\n",
    "\n",
    "for k in range(j,N):\n",
    "    \n",
    "    if ST[k] > FT[j]:\n",
    "        \n",
    "        count = count+1\n",
    "        \n",
    "        print('start date =', ST[k], '; end date=', FT[k], 'and count till now is' , count )\n",
    "        print('\\n')\n",
    "        \n",
    "        # we will now pick up remaining bookings whose starting time is greater than ST[k].. hence we assign j=k..\n",
    "        # so that we scan post k,k+1,k+2.... N bookings... no point at looking at bookings whose starting point is \n",
    "        # lesser than FT[j]\n",
    "        \n",
    "        j=k\n",
    "\n",
    "print(count)        "
   ]
  },
  {
   "cell_type": "code",
   "execution_count": null,
   "metadata": {},
   "outputs": [],
   "source": []
  }
 ],
 "metadata": {
  "kernelspec": {
   "display_name": "Python 3",
   "language": "python",
   "name": "python3"
  },
  "language_info": {
   "codemirror_mode": {
    "name": "ipython",
    "version": 3
   },
   "file_extension": ".py",
   "mimetype": "text/x-python",
   "name": "python",
   "nbconvert_exporter": "python",
   "pygments_lexer": "ipython3",
   "version": "3.7.1"
  }
 },
 "nbformat": 4,
 "nbformat_minor": 2
}
