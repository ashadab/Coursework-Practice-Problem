{
 "cells": [
  {
   "cell_type": "code",
   "execution_count": 23,
   "metadata": {},
   "outputs": [
    {
     "name": "stdout",
     "output_type": "stream",
     "text": [
      "34 56 2\n"
     ]
    }
   ],
   "source": [
    "# user input for L: length, W: width and N: # soldiers\n",
    "\n",
    "#doing list comprehension in below step\n",
    "\n",
    "L, W, N = [int(x) for x in input().split() ]"
   ]
  },
  {
   "cell_type": "code",
   "execution_count": 24,
   "metadata": {},
   "outputs": [],
   "source": [
    "#allowing for case when there are no soldiers\n",
    "#when width or length are zero\n",
    "\n",
    "import sys\n",
    "\n",
    "if N==0:\n",
    "    \n",
    "    print(0)\n",
    "    sys.exit()   \n",
    "    \n",
    "if W==0:\n",
    "    \n",
    "    print(1)\n",
    "    sys.exit()\n",
    "    \n",
    "if L==0:\n",
    "    \n",
    "    print(1)\n",
    "    sys.exit()"
   ]
  },
  {
   "cell_type": "code",
   "execution_count": 25,
   "metadata": {},
   "outputs": [
    {
     "name": "stdout",
     "output_type": "stream",
     "text": [
      "34 56\n",
      "67 23\n"
     ]
    }
   ],
   "source": [
    "#allowing user to enter x and y coordinates\n",
    "\n",
    "#Note that we will be having 0,1,2,..... N-1 soldiers as the node\n",
    "\n",
    "x_cord =[]\n",
    "y_cord =[]\n",
    "\n",
    "for i in range(0, N):\n",
    "    \n",
    "    X, Y = [int(t) for t in input().split() ]\n",
    "    \n",
    "    x_cord.append(X)\n",
    "    y_cord.append(Y)\n"
   ]
  },
  {
   "cell_type": "code",
   "execution_count": 26,
   "metadata": {},
   "outputs": [
    {
     "data": {
      "text/plain": [
       "[34, 67]"
      ]
     },
     "execution_count": 26,
     "metadata": {},
     "output_type": "execute_result"
    }
   ],
   "source": [
    "#creating list of x-coordinates\n",
    "x_cord"
   ]
  },
  {
   "cell_type": "code",
   "execution_count": null,
   "metadata": {},
   "outputs": [],
   "source": []
  },
  {
   "cell_type": "code",
   "execution_count": 8,
   "metadata": {},
   "outputs": [
    {
     "data": {
      "text/plain": [
       "[]"
      ]
     },
     "execution_count": 8,
     "metadata": {},
     "output_type": "execute_result"
    }
   ],
   "source": [
    "#creating list of y-coordinates\n",
    "y_cord"
   ]
  },
  {
   "cell_type": "code",
   "execution_count": 9,
   "metadata": {},
   "outputs": [],
   "source": [
    "#importing math library\n",
    "import math"
   ]
  },
  {
   "cell_type": "code",
   "execution_count": null,
   "metadata": {},
   "outputs": [],
   "source": []
  },
  {
   "cell_type": "code",
   "execution_count": 10,
   "metadata": {},
   "outputs": [],
   "source": [
    "# defining a function which finds distance between soldier i and j \n",
    "# and returns 1 if distance<200 which indicates that node exists between the 2 soldiers\n",
    "\n",
    "def node_exists (i,j):\n",
    "    \n",
    "    x_a = x_cord[i]\n",
    "    y_a = y_cord[i]\n",
    "    \n",
    "    x_b = x_cord[j]\n",
    "    y_b = y_cord[j]\n",
    "        \n",
    "    \n",
    "    \n",
    "    #using simple cartersian distance formulae\n",
    "    p = (x_a - x_b)**2 + (y_a - y_b)**2\n",
    "    \n",
    "    dist = math.sqrt(p)\n",
    "    \n",
    "    if dist <= 200:\n",
    "        return 1\n",
    "    else:\n",
    "        return 0\n"
   ]
  },
  {
   "cell_type": "code",
   "execution_count": null,
   "metadata": {},
   "outputs": [],
   "source": []
  },
  {
   "cell_type": "code",
   "execution_count": 11,
   "metadata": {},
   "outputs": [
    {
     "data": {
      "text/plain": [
       "{}"
      ]
     },
     "execution_count": 11,
     "metadata": {},
     "output_type": "execute_result"
    }
   ],
   "source": [
    "#defining graph/adjacency list in form of a dictionary. Hence, we are creating a dynamic dictionary\n",
    "\n",
    "graph_t = {}\n",
    "\n",
    "for k in range(0,N):\n",
    "    \n",
    "    graph_t[k]=[]\n",
    "\n",
    "graph_t"
   ]
  },
  {
   "cell_type": "code",
   "execution_count": null,
   "metadata": {},
   "outputs": [],
   "source": []
  },
  {
   "cell_type": "code",
   "execution_count": 12,
   "metadata": {},
   "outputs": [
    {
     "data": {
      "text/plain": [
       "{}"
      ]
     },
     "execution_count": 12,
     "metadata": {},
     "output_type": "execute_result"
    }
   ],
   "source": [
    "# we are now updating adjacency list which has information of all the neighbours of a particular node\n",
    "\n",
    "neigh_list = list ( graph_t.values()  )\n",
    "\n",
    "for i in range(0,N):\n",
    "    \n",
    "    for j in range(0, N):\n",
    "        \n",
    "        if node_exists(i,j) == 1:\n",
    "                        \n",
    "            #adding neighbour to the ith node\n",
    "            working_node = neigh_list[i]\n",
    "            \n",
    "            #we add jth neighbour to adjacency list of ith node\n",
    "            \n",
    "            if j!=i: \n",
    "                \n",
    "                working_node.append(j)\n",
    "            \n",
    "\n",
    "#print(neigh_list)\n",
    "graph_t"
   ]
  },
  {
   "cell_type": "code",
   "execution_count": null,
   "metadata": {},
   "outputs": [],
   "source": []
  },
  {
   "cell_type": "code",
   "execution_count": 13,
   "metadata": {},
   "outputs": [
    {
     "data": {
      "text/plain": [
       "[]"
      ]
     },
     "execution_count": 13,
     "metadata": {},
     "output_type": "execute_result"
    }
   ],
   "source": [
    "#defining function which returns 1 if south and node_soldier are connected\n",
    "\n",
    "#south implies bottom boundary \n",
    "south=[]\n",
    "\n",
    "\n",
    "def south_connect(i):\n",
    "    \n",
    "    if abs( y_cord[i] ) < 100 :\n",
    "        \n",
    "        return 1\n",
    "    \n",
    "    else: return 0\n",
    "\n",
    "for j in range(0,N):\n",
    "    \n",
    "    if south_connect(j) == 1:\n",
    "        \n",
    "        #append node j to south node\n",
    "        south.append(j)\n",
    "        \n",
    "        #also append south to node j\n",
    "        working_node = neigh_list[j]\n",
    "        working_node.append('south')\n",
    "        \n",
    "\n",
    "south"
   ]
  },
  {
   "cell_type": "code",
   "execution_count": 14,
   "metadata": {},
   "outputs": [
    {
     "data": {
      "text/plain": [
       "[]"
      ]
     },
     "execution_count": 14,
     "metadata": {},
     "output_type": "execute_result"
    }
   ],
   "source": [
    "#defining function which returns 1 if north and node_soldier are connected\n",
    "\n",
    "#north implies top boundary \n",
    "north=[]\n",
    "\n",
    "def north_connect(i):\n",
    "    \n",
    "    if abs( W-y_cord[i] ) < 100 :\n",
    "        \n",
    "        return 1\n",
    "    \n",
    "    else: return 0\n",
    "\n",
    "for j in range(0,N):\n",
    "    \n",
    "    if north_connect(j) == 1:\n",
    "        \n",
    "        #append node j to north node\n",
    "        north.append(j)\n",
    "        \n",
    "        #also append north to node j\n",
    "        working_node = neigh_list[j]\n",
    "        working_node.append('north')\n",
    "        \n",
    "        \n",
    "\n",
    "north   \n",
    "    "
   ]
  },
  {
   "cell_type": "code",
   "execution_count": 15,
   "metadata": {},
   "outputs": [
    {
     "data": {
      "text/plain": [
       "{'north': [], 'south': []}"
      ]
     },
     "execution_count": 15,
     "metadata": {},
     "output_type": "execute_result"
    }
   ],
   "source": [
    "#adding north and south nodes to the dictionary\n",
    "graph_t ['north'] = north\n",
    "graph_t ['south'] = south\n",
    "\n",
    "graph_t"
   ]
  },
  {
   "cell_type": "code",
   "execution_count": null,
   "metadata": {},
   "outputs": [],
   "source": []
  },
  {
   "cell_type": "code",
   "execution_count": null,
   "metadata": {},
   "outputs": [],
   "source": []
  },
  {
   "cell_type": "code",
   "execution_count": 16,
   "metadata": {},
   "outputs": [],
   "source": [
    "## writing code for Breadth first search .. which takes dictionary as input\n",
    "\n",
    "\n",
    "# visits all the nodes of a graph (connected component) using BFS\n",
    "\n",
    "def bfs_connected_component(graph, start):\n",
    "    \n",
    "    # keep track of all visited nodes\n",
    "    explored = []\n",
    "    \n",
    "    # keep track of nodes to be checked\n",
    "    queue = [start]\n",
    "\n",
    "    levels = {}         # this dict keeps track of levels\n",
    "    levels[start]= 0    # depth of start node is 0\n",
    "\n",
    "    visited= [start]     # to avoid inserting the same node twice into the queue\n",
    "\n",
    "    # keep looping until there are nodes still to be checked\n",
    "    while queue:\n",
    "       # pop shallowest node (first node) from queue\n",
    "        node = queue.pop(0)\n",
    "        explored.append(node)\n",
    "        neighbours = graph[node]\n",
    "\n",
    "        # add neighbours of node to queue\n",
    "        for neighbour in neighbours:\n",
    "            if neighbour not in visited:\n",
    "                queue.append(neighbour)\n",
    "                visited.append(neighbour)\n",
    "\n",
    "                levels[neighbour]= levels[node]+1\n",
    "                # print(neighbour, \">>\", levels[neighbour])\n",
    "\n",
    "    #print(levels)\n",
    "\n",
    "    return explored\n",
    "\n"
   ]
  },
  {
   "cell_type": "code",
   "execution_count": null,
   "metadata": {},
   "outputs": [],
   "source": []
  },
  {
   "cell_type": "code",
   "execution_count": 17,
   "metadata": {},
   "outputs": [
    {
     "ename": "KeyError",
     "evalue": "0",
     "output_type": "error",
     "traceback": [
      "\u001b[1;31m---------------------------------------------------------------------------\u001b[0m",
      "\u001b[1;31mKeyError\u001b[0m                                  Traceback (most recent call last)",
      "\u001b[1;32m<ipython-input-17-02437b1d1215>\u001b[0m in \u001b[0;36m<module>\u001b[1;34m\u001b[0m\n\u001b[0;32m      1\u001b[0m \u001b[1;31m#finding the path of the graph.. starting from 0th node soldier\u001b[0m\u001b[1;33m\u001b[0m\u001b[1;33m\u001b[0m\u001b[1;33m\u001b[0m\u001b[0m\n\u001b[1;32m----> 2\u001b[1;33m \u001b[0mpath\u001b[0m \u001b[1;33m=\u001b[0m \u001b[0mbfs_connected_component\u001b[0m\u001b[1;33m(\u001b[0m\u001b[0mgraph_t\u001b[0m\u001b[1;33m,\u001b[0m \u001b[1;36m0\u001b[0m \u001b[1;33m)\u001b[0m\u001b[1;33m\u001b[0m\u001b[1;33m\u001b[0m\u001b[0m\n\u001b[0m",
      "\u001b[1;32m<ipython-input-16-fd62f69b596a>\u001b[0m in \u001b[0;36mbfs_connected_component\u001b[1;34m(graph, start)\u001b[0m\n\u001b[0;32m     22\u001b[0m         \u001b[0mnode\u001b[0m \u001b[1;33m=\u001b[0m \u001b[0mqueue\u001b[0m\u001b[1;33m.\u001b[0m\u001b[0mpop\u001b[0m\u001b[1;33m(\u001b[0m\u001b[1;36m0\u001b[0m\u001b[1;33m)\u001b[0m\u001b[1;33m\u001b[0m\u001b[1;33m\u001b[0m\u001b[0m\n\u001b[0;32m     23\u001b[0m         \u001b[0mexplored\u001b[0m\u001b[1;33m.\u001b[0m\u001b[0mappend\u001b[0m\u001b[1;33m(\u001b[0m\u001b[0mnode\u001b[0m\u001b[1;33m)\u001b[0m\u001b[1;33m\u001b[0m\u001b[1;33m\u001b[0m\u001b[0m\n\u001b[1;32m---> 24\u001b[1;33m         \u001b[0mneighbours\u001b[0m \u001b[1;33m=\u001b[0m \u001b[0mgraph\u001b[0m\u001b[1;33m[\u001b[0m\u001b[0mnode\u001b[0m\u001b[1;33m]\u001b[0m\u001b[1;33m\u001b[0m\u001b[1;33m\u001b[0m\u001b[0m\n\u001b[0m\u001b[0;32m     25\u001b[0m \u001b[1;33m\u001b[0m\u001b[0m\n\u001b[0;32m     26\u001b[0m         \u001b[1;31m# add neighbours of node to queue\u001b[0m\u001b[1;33m\u001b[0m\u001b[1;33m\u001b[0m\u001b[1;33m\u001b[0m\u001b[0m\n",
      "\u001b[1;31mKeyError\u001b[0m: 0"
     ]
    }
   ],
   "source": [
    "#finding the path of the graph.. starting from 0th node soldier\n",
    "path = bfs_connected_component(graph_t, 0 )\n"
   ]
  },
  {
   "cell_type": "code",
   "execution_count": null,
   "metadata": {},
   "outputs": [],
   "source": [
    "# In the path, if north and south are both present that means path is complete. So, prisoners cannot escape.\n",
    "# CANNOT escape:     return 1\n",
    "# Successful escape: return 0\n",
    "\n",
    "check_connected = 'south' and 'north' in path\n",
    "\n",
    "if check_connected == True: \n",
    "    print(1)\n",
    "    \n",
    "else:\n",
    "    print(0)\n",
    "        "
   ]
  },
  {
   "cell_type": "code",
   "execution_count": null,
   "metadata": {},
   "outputs": [],
   "source": []
  },
  {
   "cell_type": "code",
   "execution_count": null,
   "metadata": {},
   "outputs": [],
   "source": []
  }
 ],
 "metadata": {
  "kernelspec": {
   "display_name": "Python 3",
   "language": "python",
   "name": "python3"
  },
  "language_info": {
   "codemirror_mode": {
    "name": "ipython",
    "version": 3
   },
   "file_extension": ".py",
   "mimetype": "text/x-python",
   "name": "python",
   "nbconvert_exporter": "python",
   "pygments_lexer": "ipython3",
   "version": "3.7.1"
  }
 },
 "nbformat": 4,
 "nbformat_minor": 2
}
